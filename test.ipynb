{
 "cells": [
  {
   "cell_type": "code",
   "execution_count": null,
   "metadata": {},
   "outputs": [],
   "source": [
    "import pandas as pd\n",
    "from datetime import datetime\n",
    "from datetime import timedelta\n",
    "\n",
    "#add path to the helper functions from the SQL queries py file\n",
    "import sys\n",
    "sys.path.insert(0, r'Z:\\04. Dispatching\\04. Turno\\05. Carpetas personales\\Miguel\\Github\\query_SQL')\n",
    "import query_SQL #type: ignore"
   ]
  },
  {
   "cell_type": "code",
   "execution_count": 60,
   "metadata": {},
   "outputs": [],
   "source": [
    "start_date = datetime(2024,6,1)\n",
    "end_date =  datetime(2024,6,29)"
   ]
  },
  {
   "cell_type": "code",
   "execution_count": 61,
   "metadata": {},
   "outputs": [
    {
     "name": "stderr",
     "output_type": "stream",
     "text": [
      "Z:\\04. Dispatching\\04. Turno\\05. Carpetas personales\\Miguel\\Github\\query_SQL\\query_SQL.py:702: UserWarning: pandas only supports SQLAlchemy connectable (engine/connection) or database string URI or sqlite3 DBAPI2 connection. Other DBAPI2 objects are not tested. Please consider using SQLAlchemy.\n",
      "  df_query = pd.read_sql(sql_query, conn)\n",
      "Z:\\04. Dispatching\\04. Turno\\05. Carpetas personales\\Miguel\\Github\\query_SQL\\query_SQL.py:702: UserWarning: pandas only supports SQLAlchemy connectable (engine/connection) or database string URI or sqlite3 DBAPI2 connection. Other DBAPI2 objects are not tested. Please consider using SQLAlchemy.\n",
      "  df_query = pd.read_sql(sql_query, conn)\n",
      "Z:\\04. Dispatching\\04. Turno\\05. Carpetas personales\\Miguel\\Github\\query_SQL\\query_SQL.py:702: UserWarning: pandas only supports SQLAlchemy connectable (engine/connection) or database string URI or sqlite3 DBAPI2 connection. Other DBAPI2 objects are not tested. Please consider using SQLAlchemy.\n",
      "  df_query = pd.read_sql(sql_query, conn)\n",
      "Z:\\04. Dispatching\\04. Turno\\05. Carpetas personales\\Miguel\\Github\\query_SQL\\query_SQL.py:702: UserWarning: pandas only supports SQLAlchemy connectable (engine/connection) or database string URI or sqlite3 DBAPI2 connection. Other DBAPI2 objects are not tested. Please consider using SQLAlchemy.\n",
      "  df_query = pd.read_sql(sql_query, conn)\n",
      "Z:\\04. Dispatching\\04. Turno\\05. Carpetas personales\\Miguel\\Github\\query_SQL\\query_SQL.py:702: UserWarning: pandas only supports SQLAlchemy connectable (engine/connection) or database string URI or sqlite3 DBAPI2 connection. Other DBAPI2 objects are not tested. Please consider using SQLAlchemy.\n",
      "  df_query = pd.read_sql(sql_query, conn)\n",
      "Z:\\04. Dispatching\\04. Turno\\05. Carpetas personales\\Miguel\\Github\\query_SQL\\query_SQL.py:702: UserWarning: pandas only supports SQLAlchemy connectable (engine/connection) or database string URI or sqlite3 DBAPI2 connection. Other DBAPI2 objects are not tested. Please consider using SQLAlchemy.\n",
      "  df_query = pd.read_sql(sql_query, conn)\n",
      "Z:\\04. Dispatching\\04. Turno\\05. Carpetas personales\\Miguel\\Github\\query_SQL\\query_SQL.py:702: UserWarning: pandas only supports SQLAlchemy connectable (engine/connection) or database string URI or sqlite3 DBAPI2 connection. Other DBAPI2 objects are not tested. Please consider using SQLAlchemy.\n",
      "  df_query = pd.read_sql(sql_query, conn)\n",
      "Z:\\04. Dispatching\\04. Turno\\05. Carpetas personales\\Miguel\\Github\\query_SQL\\query_SQL.py:702: UserWarning: pandas only supports SQLAlchemy connectable (engine/connection) or database string URI or sqlite3 DBAPI2 connection. Other DBAPI2 objects are not tested. Please consider using SQLAlchemy.\n",
      "  df_query = pd.read_sql(sql_query, conn)\n",
      "Z:\\04. Dispatching\\04. Turno\\05. Carpetas personales\\Miguel\\Github\\query_SQL\\query_SQL.py:702: UserWarning: pandas only supports SQLAlchemy connectable (engine/connection) or database string URI or sqlite3 DBAPI2 connection. Other DBAPI2 objects are not tested. Please consider using SQLAlchemy.\n",
      "  df_query = pd.read_sql(sql_query, conn)\n",
      "Z:\\04. Dispatching\\04. Turno\\05. Carpetas personales\\Miguel\\Github\\query_SQL\\query_SQL.py:702: UserWarning: pandas only supports SQLAlchemy connectable (engine/connection) or database string URI or sqlite3 DBAPI2 connection. Other DBAPI2 objects are not tested. Please consider using SQLAlchemy.\n",
      "  df_query = pd.read_sql(sql_query, conn)\n",
      "Z:\\04. Dispatching\\04. Turno\\05. Carpetas personales\\Miguel\\Github\\query_SQL\\query_SQL.py:702: UserWarning: pandas only supports SQLAlchemy connectable (engine/connection) or database string URI or sqlite3 DBAPI2 connection. Other DBAPI2 objects are not tested. Please consider using SQLAlchemy.\n",
      "  df_query = pd.read_sql(sql_query, conn)\n",
      "Z:\\04. Dispatching\\04. Turno\\05. Carpetas personales\\Miguel\\Github\\query_SQL\\query_SQL.py:702: UserWarning: pandas only supports SQLAlchemy connectable (engine/connection) or database string URI or sqlite3 DBAPI2 connection. Other DBAPI2 objects are not tested. Please consider using SQLAlchemy.\n",
      "  df_query = pd.read_sql(sql_query, conn)\n",
      "Z:\\04. Dispatching\\04. Turno\\05. Carpetas personales\\Miguel\\Github\\query_SQL\\query_SQL.py:702: UserWarning: pandas only supports SQLAlchemy connectable (engine/connection) or database string URI or sqlite3 DBAPI2 connection. Other DBAPI2 objects are not tested. Please consider using SQLAlchemy.\n",
      "  df_query = pd.read_sql(sql_query, conn)\n",
      "Z:\\04. Dispatching\\04. Turno\\05. Carpetas personales\\Miguel\\Github\\query_SQL\\query_SQL.py:702: UserWarning: pandas only supports SQLAlchemy connectable (engine/connection) or database string URI or sqlite3 DBAPI2 connection. Other DBAPI2 objects are not tested. Please consider using SQLAlchemy.\n",
      "  df_query = pd.read_sql(sql_query, conn)\n",
      "Z:\\04. Dispatching\\04. Turno\\05. Carpetas personales\\Miguel\\Github\\query_SQL\\query_SQL.py:702: UserWarning: pandas only supports SQLAlchemy connectable (engine/connection) or database string URI or sqlite3 DBAPI2 connection. Other DBAPI2 objects are not tested. Please consider using SQLAlchemy.\n",
      "  df_query = pd.read_sql(sql_query, conn)\n",
      "Z:\\04. Dispatching\\04. Turno\\05. Carpetas personales\\Miguel\\Github\\query_SQL\\query_SQL.py:702: UserWarning: pandas only supports SQLAlchemy connectable (engine/connection) or database string URI or sqlite3 DBAPI2 connection. Other DBAPI2 objects are not tested. Please consider using SQLAlchemy.\n",
      "  df_query = pd.read_sql(sql_query, conn)\n",
      "Z:\\04. Dispatching\\04. Turno\\05. Carpetas personales\\Miguel\\Github\\query_SQL\\query_SQL.py:702: UserWarning: pandas only supports SQLAlchemy connectable (engine/connection) or database string URI or sqlite3 DBAPI2 connection. Other DBAPI2 objects are not tested. Please consider using SQLAlchemy.\n",
      "  df_query = pd.read_sql(sql_query, conn)\n",
      "Z:\\04. Dispatching\\04. Turno\\05. Carpetas personales\\Miguel\\Github\\query_SQL\\query_SQL.py:702: UserWarning: pandas only supports SQLAlchemy connectable (engine/connection) or database string URI or sqlite3 DBAPI2 connection. Other DBAPI2 objects are not tested. Please consider using SQLAlchemy.\n",
      "  df_query = pd.read_sql(sql_query, conn)\n",
      "Z:\\04. Dispatching\\04. Turno\\05. Carpetas personales\\Miguel\\Github\\query_SQL\\query_SQL.py:702: UserWarning: pandas only supports SQLAlchemy connectable (engine/connection) or database string URI or sqlite3 DBAPI2 connection. Other DBAPI2 objects are not tested. Please consider using SQLAlchemy.\n",
      "  df_query = pd.read_sql(sql_query, conn)\n",
      "Z:\\04. Dispatching\\04. Turno\\05. Carpetas personales\\Miguel\\Github\\query_SQL\\query_SQL.py:702: UserWarning: pandas only supports SQLAlchemy connectable (engine/connection) or database string URI or sqlite3 DBAPI2 connection. Other DBAPI2 objects are not tested. Please consider using SQLAlchemy.\n",
      "  df_query = pd.read_sql(sql_query, conn)\n",
      "Z:\\04. Dispatching\\04. Turno\\05. Carpetas personales\\Miguel\\Github\\query_SQL\\query_SQL.py:702: UserWarning: pandas only supports SQLAlchemy connectable (engine/connection) or database string URI or sqlite3 DBAPI2 connection. Other DBAPI2 objects are not tested. Please consider using SQLAlchemy.\n",
      "  df_query = pd.read_sql(sql_query, conn)\n",
      "Z:\\04. Dispatching\\04. Turno\\05. Carpetas personales\\Miguel\\Github\\query_SQL\\query_SQL.py:702: UserWarning: pandas only supports SQLAlchemy connectable (engine/connection) or database string URI or sqlite3 DBAPI2 connection. Other DBAPI2 objects are not tested. Please consider using SQLAlchemy.\n",
      "  df_query = pd.read_sql(sql_query, conn)\n",
      "Z:\\04. Dispatching\\04. Turno\\05. Carpetas personales\\Miguel\\Github\\query_SQL\\query_SQL.py:702: UserWarning: pandas only supports SQLAlchemy connectable (engine/connection) or database string URI or sqlite3 DBAPI2 connection. Other DBAPI2 objects are not tested. Please consider using SQLAlchemy.\n",
      "  df_query = pd.read_sql(sql_query, conn)\n",
      "Z:\\04. Dispatching\\04. Turno\\05. Carpetas personales\\Miguel\\Github\\query_SQL\\query_SQL.py:702: UserWarning: pandas only supports SQLAlchemy connectable (engine/connection) or database string URI or sqlite3 DBAPI2 connection. Other DBAPI2 objects are not tested. Please consider using SQLAlchemy.\n",
      "  df_query = pd.read_sql(sql_query, conn)\n",
      "Z:\\04. Dispatching\\04. Turno\\05. Carpetas personales\\Miguel\\Github\\query_SQL\\query_SQL.py:702: UserWarning: pandas only supports SQLAlchemy connectable (engine/connection) or database string URI or sqlite3 DBAPI2 connection. Other DBAPI2 objects are not tested. Please consider using SQLAlchemy.\n",
      "  df_query = pd.read_sql(sql_query, conn)\n",
      "Z:\\04. Dispatching\\04. Turno\\05. Carpetas personales\\Miguel\\Github\\query_SQL\\query_SQL.py:702: UserWarning: pandas only supports SQLAlchemy connectable (engine/connection) or database string URI or sqlite3 DBAPI2 connection. Other DBAPI2 objects are not tested. Please consider using SQLAlchemy.\n",
      "  df_query = pd.read_sql(sql_query, conn)\n",
      "Z:\\04. Dispatching\\04. Turno\\05. Carpetas personales\\Miguel\\Github\\query_SQL\\query_SQL.py:702: UserWarning: pandas only supports SQLAlchemy connectable (engine/connection) or database string URI or sqlite3 DBAPI2 connection. Other DBAPI2 objects are not tested. Please consider using SQLAlchemy.\n",
      "  df_query = pd.read_sql(sql_query, conn)\n",
      "Z:\\04. Dispatching\\04. Turno\\05. Carpetas personales\\Miguel\\Github\\query_SQL\\query_SQL.py:702: UserWarning: pandas only supports SQLAlchemy connectable (engine/connection) or database string URI or sqlite3 DBAPI2 connection. Other DBAPI2 objects are not tested. Please consider using SQLAlchemy.\n",
      "  df_query = pd.read_sql(sql_query, conn)\n",
      "Z:\\04. Dispatching\\04. Turno\\05. Carpetas personales\\Miguel\\Github\\query_SQL\\query_SQL.py:702: UserWarning: pandas only supports SQLAlchemy connectable (engine/connection) or database string URI or sqlite3 DBAPI2 connection. Other DBAPI2 objects are not tested. Please consider using SQLAlchemy.\n",
      "  df_query = pd.read_sql(sql_query, conn)\n",
      "Z:\\04. Dispatching\\04. Turno\\05. Carpetas personales\\Miguel\\Github\\query_SQL\\query_SQL.py:738: FutureWarning: The behavior of DataFrame concatenation with empty or all-NA entries is deprecated. In a future version, this will no longer exclude empty or all-NA columns when determining the result dtypes. To retain the old behavior, exclude the relevant entries before the concat operation.\n",
      "  df_out = pd.concat(df_list)\n"
     ]
    },
    {
     "ename": "TypeError",
     "evalue": "'float' object cannot be interpreted as an integer",
     "output_type": "error",
     "traceback": [
      "\u001b[31m---------------------------------------------------------------------------\u001b[39m",
      "\u001b[31mTypeError\u001b[39m                                 Traceback (most recent call last)",
      "\u001b[36mCell\u001b[39m\u001b[36m \u001b[39m\u001b[32mIn[61]\u001b[39m\u001b[32m, line 1\u001b[39m\n\u001b[32m----> \u001b[39m\u001b[32m1\u001b[39m df = \u001b[43mquery_SQL\u001b[49m\u001b[43m.\u001b[49m\u001b[43mquery_fase2\u001b[49m\u001b[43m(\u001b[49m\u001b[43mstart_date\u001b[49m\u001b[43m,\u001b[49m\u001b[43m \u001b[49m\u001b[43mend_date\u001b[49m\u001b[43m,\u001b[49m\u001b[43m \u001b[49m\u001b[43mvertical\u001b[49m\u001b[43m \u001b[49m\u001b[43m=\u001b[49m\u001b[43m \u001b[49m\u001b[38;5;28;43;01mTrue\u001b[39;49;00m\u001b[43m)\u001b[49m\n\u001b[32m      2\u001b[39m df\n",
      "\u001b[36mFile \u001b[39m\u001b[32mZ:\\04. Dispatching\\04. Turno\\05. Carpetas personales\\Miguel\\Github\\query_SQL\\query_SQL.py:749\u001b[39m, in \u001b[36mquery_fase2\u001b[39m\u001b[34m(start_date, end_date, vertical)\u001b[39m\n\u001b[32m    746\u001b[39m         hour = \u001b[38;5;28mint\u001b[39m (row[\u001b[33m'\u001b[39m\u001b[33mperiod\u001b[39m\u001b[33m'\u001b[39m]) - \u001b[32m1\u001b[39m\n\u001b[32m    747\u001b[39m         \u001b[38;5;28;01mreturn\u001b[39;00m datetime(year = ts.year, month = ts.month, day = ts.day, hour = hour)\n\u001b[32m--> \u001b[39m\u001b[32m749\u001b[39m     df_temp[\u001b[33m'\u001b[39m\u001b[33mdatetime\u001b[39m\u001b[33m'\u001b[39m] = \u001b[43mdf_temp\u001b[49m\u001b[43m.\u001b[49m\u001b[43mapply\u001b[49m\u001b[43m(\u001b[49m\u001b[43mget_datetime\u001b[49m\u001b[43m,\u001b[49m\u001b[43m \u001b[49m\u001b[43maxis\u001b[49m\u001b[43m \u001b[49m\u001b[43m=\u001b[49m\u001b[43m \u001b[49m\u001b[32;43m1\u001b[39;49m\u001b[43m)\u001b[49m\n\u001b[32m    750\u001b[39m     df_out = df_temp.pivot_table(index = [\u001b[33m'\u001b[39m\u001b[33mdate\u001b[39m\u001b[33m'\u001b[39m,\u001b[33m'\u001b[39m\u001b[33mdatetime\u001b[39m\u001b[33m'\u001b[39m, \u001b[33m'\u001b[39m\u001b[33mperiod\u001b[39m\u001b[33m'\u001b[39m], columns = \u001b[33m'\u001b[39m\u001b[33mvar\u001b[39m\u001b[33m'\u001b[39m, values = \u001b[33m'\u001b[39m\u001b[33mval\u001b[39m\u001b[33m'\u001b[39m).reset_index()\n\u001b[32m    752\u001b[39m \u001b[38;5;28;01mreturn\u001b[39;00m df_out\n",
      "\u001b[36mFile \u001b[39m\u001b[32mc:\\Users\\malumbreros\\AppData\\Local\\anaconda3\\envs\\streamlit_op_nation\\Lib\\site-packages\\pandas\\core\\frame.py:10374\u001b[39m, in \u001b[36mDataFrame.apply\u001b[39m\u001b[34m(self, func, axis, raw, result_type, args, by_row, engine, engine_kwargs, **kwargs)\u001b[39m\n\u001b[32m  10360\u001b[39m \u001b[38;5;28;01mfrom\u001b[39;00m\u001b[38;5;250m \u001b[39m\u001b[34;01mpandas\u001b[39;00m\u001b[34;01m.\u001b[39;00m\u001b[34;01mcore\u001b[39;00m\u001b[34;01m.\u001b[39;00m\u001b[34;01mapply\u001b[39;00m\u001b[38;5;250m \u001b[39m\u001b[38;5;28;01mimport\u001b[39;00m frame_apply\n\u001b[32m  10362\u001b[39m op = frame_apply(\n\u001b[32m  10363\u001b[39m     \u001b[38;5;28mself\u001b[39m,\n\u001b[32m  10364\u001b[39m     func=func,\n\u001b[32m   (...)\u001b[39m\u001b[32m  10372\u001b[39m     kwargs=kwargs,\n\u001b[32m  10373\u001b[39m )\n\u001b[32m> \u001b[39m\u001b[32m10374\u001b[39m \u001b[38;5;28;01mreturn\u001b[39;00m \u001b[43mop\u001b[49m\u001b[43m.\u001b[49m\u001b[43mapply\u001b[49m\u001b[43m(\u001b[49m\u001b[43m)\u001b[49m.__finalize__(\u001b[38;5;28mself\u001b[39m, method=\u001b[33m\"\u001b[39m\u001b[33mapply\u001b[39m\u001b[33m\"\u001b[39m)\n",
      "\u001b[36mFile \u001b[39m\u001b[32mc:\\Users\\malumbreros\\AppData\\Local\\anaconda3\\envs\\streamlit_op_nation\\Lib\\site-packages\\pandas\\core\\apply.py:916\u001b[39m, in \u001b[36mFrameApply.apply\u001b[39m\u001b[34m(self)\u001b[39m\n\u001b[32m    913\u001b[39m \u001b[38;5;28;01melif\u001b[39;00m \u001b[38;5;28mself\u001b[39m.raw:\n\u001b[32m    914\u001b[39m     \u001b[38;5;28;01mreturn\u001b[39;00m \u001b[38;5;28mself\u001b[39m.apply_raw(engine=\u001b[38;5;28mself\u001b[39m.engine, engine_kwargs=\u001b[38;5;28mself\u001b[39m.engine_kwargs)\n\u001b[32m--> \u001b[39m\u001b[32m916\u001b[39m \u001b[38;5;28;01mreturn\u001b[39;00m \u001b[38;5;28;43mself\u001b[39;49m\u001b[43m.\u001b[49m\u001b[43mapply_standard\u001b[49m\u001b[43m(\u001b[49m\u001b[43m)\u001b[49m\n",
      "\u001b[36mFile \u001b[39m\u001b[32mc:\\Users\\malumbreros\\AppData\\Local\\anaconda3\\envs\\streamlit_op_nation\\Lib\\site-packages\\pandas\\core\\apply.py:1063\u001b[39m, in \u001b[36mFrameApply.apply_standard\u001b[39m\u001b[34m(self)\u001b[39m\n\u001b[32m   1061\u001b[39m \u001b[38;5;28;01mdef\u001b[39;00m\u001b[38;5;250m \u001b[39m\u001b[34mapply_standard\u001b[39m(\u001b[38;5;28mself\u001b[39m):\n\u001b[32m   1062\u001b[39m     \u001b[38;5;28;01mif\u001b[39;00m \u001b[38;5;28mself\u001b[39m.engine == \u001b[33m\"\u001b[39m\u001b[33mpython\u001b[39m\u001b[33m\"\u001b[39m:\n\u001b[32m-> \u001b[39m\u001b[32m1063\u001b[39m         results, res_index = \u001b[38;5;28;43mself\u001b[39;49m\u001b[43m.\u001b[49m\u001b[43mapply_series_generator\u001b[49m\u001b[43m(\u001b[49m\u001b[43m)\u001b[49m\n\u001b[32m   1064\u001b[39m     \u001b[38;5;28;01melse\u001b[39;00m:\n\u001b[32m   1065\u001b[39m         results, res_index = \u001b[38;5;28mself\u001b[39m.apply_series_numba()\n",
      "\u001b[36mFile \u001b[39m\u001b[32mc:\\Users\\malumbreros\\AppData\\Local\\anaconda3\\envs\\streamlit_op_nation\\Lib\\site-packages\\pandas\\core\\apply.py:1081\u001b[39m, in \u001b[36mFrameApply.apply_series_generator\u001b[39m\u001b[34m(self)\u001b[39m\n\u001b[32m   1078\u001b[39m \u001b[38;5;28;01mwith\u001b[39;00m option_context(\u001b[33m\"\u001b[39m\u001b[33mmode.chained_assignment\u001b[39m\u001b[33m\"\u001b[39m, \u001b[38;5;28;01mNone\u001b[39;00m):\n\u001b[32m   1079\u001b[39m     \u001b[38;5;28;01mfor\u001b[39;00m i, v \u001b[38;5;129;01min\u001b[39;00m \u001b[38;5;28menumerate\u001b[39m(series_gen):\n\u001b[32m   1080\u001b[39m         \u001b[38;5;66;03m# ignore SettingWithCopy here in case the user mutates\u001b[39;00m\n\u001b[32m-> \u001b[39m\u001b[32m1081\u001b[39m         results[i] = \u001b[38;5;28;43mself\u001b[39;49m\u001b[43m.\u001b[49m\u001b[43mfunc\u001b[49m\u001b[43m(\u001b[49m\u001b[43mv\u001b[49m\u001b[43m,\u001b[49m\u001b[43m \u001b[49m\u001b[43m*\u001b[49m\u001b[38;5;28;43mself\u001b[39;49m\u001b[43m.\u001b[49m\u001b[43margs\u001b[49m\u001b[43m,\u001b[49m\u001b[43m \u001b[49m\u001b[43m*\u001b[49m\u001b[43m*\u001b[49m\u001b[38;5;28;43mself\u001b[39;49m\u001b[43m.\u001b[49m\u001b[43mkwargs\u001b[49m\u001b[43m)\u001b[49m\n\u001b[32m   1082\u001b[39m         \u001b[38;5;28;01mif\u001b[39;00m \u001b[38;5;28misinstance\u001b[39m(results[i], ABCSeries):\n\u001b[32m   1083\u001b[39m             \u001b[38;5;66;03m# If we have a view on v, we need to make a copy because\u001b[39;00m\n\u001b[32m   1084\u001b[39m             \u001b[38;5;66;03m#  series_generator will swap out the underlying data\u001b[39;00m\n\u001b[32m   1085\u001b[39m             results[i] = results[i].copy(deep=\u001b[38;5;28;01mFalse\u001b[39;00m)\n",
      "\u001b[36mFile \u001b[39m\u001b[32mZ:\\04. Dispatching\\04. Turno\\05. Carpetas personales\\Miguel\\Github\\query_SQL\\query_SQL.py:747\u001b[39m, in \u001b[36mquery_fase2.<locals>.get_datetime\u001b[39m\u001b[34m(row)\u001b[39m\n\u001b[32m    745\u001b[39m ts = row[\u001b[33m'\u001b[39m\u001b[33mdate\u001b[39m\u001b[33m'\u001b[39m]\n\u001b[32m    746\u001b[39m hour = \u001b[38;5;28mint\u001b[39m (row[\u001b[33m'\u001b[39m\u001b[33mperiod\u001b[39m\u001b[33m'\u001b[39m]) - \u001b[32m1\u001b[39m\n\u001b[32m--> \u001b[39m\u001b[32m747\u001b[39m \u001b[38;5;28;01mreturn\u001b[39;00m \u001b[43mdatetime\u001b[49m\u001b[43m(\u001b[49m\u001b[43myear\u001b[49m\u001b[43m \u001b[49m\u001b[43m=\u001b[49m\u001b[43m \u001b[49m\u001b[43mts\u001b[49m\u001b[43m.\u001b[49m\u001b[43myear\u001b[49m\u001b[43m,\u001b[49m\u001b[43m \u001b[49m\u001b[43mmonth\u001b[49m\u001b[43m \u001b[49m\u001b[43m=\u001b[49m\u001b[43m \u001b[49m\u001b[43mts\u001b[49m\u001b[43m.\u001b[49m\u001b[43mmonth\u001b[49m\u001b[43m,\u001b[49m\u001b[43m \u001b[49m\u001b[43mday\u001b[49m\u001b[43m \u001b[49m\u001b[43m=\u001b[49m\u001b[43m \u001b[49m\u001b[43mts\u001b[49m\u001b[43m.\u001b[49m\u001b[43mday\u001b[49m\u001b[43m,\u001b[49m\u001b[43m \u001b[49m\u001b[43mhour\u001b[49m\u001b[43m \u001b[49m\u001b[43m=\u001b[49m\u001b[43m \u001b[49m\u001b[43mhour\u001b[49m\u001b[43m)\u001b[49m\n",
      "\u001b[31mTypeError\u001b[39m: 'float' object cannot be interpreted as an integer"
     ]
    }
   ],
   "source": [
    "df = query_SQL.query_fase2(start_date, end_date, vertical = True)\n",
    "df"
   ]
  }
 ],
 "metadata": {
  "kernelspec": {
   "display_name": "streamlit_op_nation",
   "language": "python",
   "name": "python3"
  },
  "language_info": {
   "codemirror_mode": {
    "name": "ipython",
    "version": 3
   },
   "file_extension": ".py",
   "mimetype": "text/x-python",
   "name": "python",
   "nbconvert_exporter": "python",
   "pygments_lexer": "ipython3",
   "version": "3.12.9"
  }
 },
 "nbformat": 4,
 "nbformat_minor": 2
}
